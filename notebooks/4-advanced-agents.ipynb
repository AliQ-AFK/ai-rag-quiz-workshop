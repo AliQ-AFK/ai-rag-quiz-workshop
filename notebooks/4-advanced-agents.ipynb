{
 "cells": [
  {
   "cell_type": "markdown",
   "metadata": {},
   "source": [
    "# Agents (Advanced)\n",
    "\n",
    "Agents are programs that can interact with the world and execute tasks.\n",
    "They are a core concept in the field of AI and are used in a wide range of applications, from chatbots to autonomous robots.\n",
    "\n",
    "In this notebook, we will explore how to build a simple agent that can execute commands on a linux machine.\n"
   ]
  },
  {
   "cell_type": "code",
   "execution_count": null,
   "metadata": {},
   "outputs": [],
   "source": [
    "# add parent folder to python path\n",
    "import sys\n",
    "sys.path.append(\"..\")\n",
    "\n",
    "from chat_solution.llm import LargeLanguageModel\n",
    "\n",
    "\n",
    "class TerminalAgent:\n",
    "\n",
    "    def __init__(self):\n",
    "        self.llm = LargeLanguageModel() \n",
    "        self.current_cmd = \"\"\n",
    "\n",
    "    def run(self, user_query):\n",
    "        self.current_cmd = self.get_cmd(user_query)\n",
    "        return self.execute_cmd()   \n",
    "\n",
    "    def get_cmd(self, user_query):    \n",
    "        prompt = \"\"\"You are an agent that converts the user's input into bash commands to be executed on a linux machine.\n",
    "    Return only the command, without any explanation or demarcation.\n",
    "\n",
    "    Examples\n",
    "\n",
    "    1. User: \"I want to know the weather in Tokyo\"\n",
    "    Agent: curl wttr.in/Tokyo\n",
    "\n",
    "    2. User: \"how many memory does my computer have?\"\n",
    "    Agent: free -m | grep Mem\n",
    "\n",
    "\n",
    "    Real case:\n",
    "\n",
    "    User: {user_query}\n",
    "    Agent:\n",
    "    \"\"\"\n",
    "        self.current_cmd = self.llm.call(prompt.format(user_query=user_query))\n",
    "        print(\"Command: \", self.current_cmd)\n",
    "        return self.current_cmd\n",
    "    \n",
    "    def execute_cmd(self):\n",
    "        # use subprocess to execute the command and get the output\n",
    "        import subprocess\n",
    "        output = subprocess.run(self.current_cmd, shell=True, capture_output=True, text=True)\n",
    "        if output.returncode != 0:\n",
    "            print(\"Error: \", output.stderr)\n",
    "            return output.stderr\n",
    "            \n",
    "        return output.stdout\n",
    "\n",
    "#print(get_cmd(\"create a file named 'test.txt'\"))\n",
    "\n",
    "agent = TerminalAgent()\n",
    "#print(agent.run(\"which packages are installed in python?\"))\n",
    "print(agent.run(\"which python version is installed?\"))\n",
    "\n",
    "#print(agent.run(\"what is the current time?\"))\n",
    "#print(agent.run(\"which kernel is running?\"))\n",
    "\n",
    "result = agent.run(\"what is the weather tomorrow?\")\n",
    "print(result)"
   ]
  },
  {
   "cell_type": "markdown",
   "metadata": {},
   "source": [
    "# Task 1\n",
    "\n",
    "Create an agent like the above that solve maths questions in python. \n"
   ]
  }
 ],
 "metadata": {
  "kernelspec": {
   "display_name": ".venv",
   "language": "python",
   "name": "python3"
  },
  "language_info": {
   "codemirror_mode": {
    "name": "ipython",
    "version": 3
   },
   "file_extension": ".py",
   "mimetype": "text/x-python",
   "name": "python",
   "nbconvert_exporter": "python",
   "pygments_lexer": "ipython3",
   "version": "3.12.7"
  }
 },
 "nbformat": 4,
 "nbformat_minor": 2
}
